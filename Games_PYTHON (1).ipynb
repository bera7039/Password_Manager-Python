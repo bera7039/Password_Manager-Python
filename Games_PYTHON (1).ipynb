{
 "cells": [
  {
   "cell_type": "code",
   "execution_count": null,
   "id": "418648c1-e2d4-41df-9ff5-74d7857766dc",
   "metadata": {},
   "outputs": [
    {
     "name": "stdout",
     "output_type": "stream",
     "text": [
      "welcome to the guessing game!\n",
      "choose a number between 1 and 100.Can you guess it right?\n"
     ]
    },
    {
     "name": "stdin",
     "output_type": "stream",
     "text": [
      "Enter a number 1\n"
     ]
    },
    {
     "name": "stdout",
     "output_type": "stream",
     "text": [
      "too low,try again\n"
     ]
    },
    {
     "name": "stdin",
     "output_type": "stream",
     "text": [
      "Enter a number 100\n"
     ]
    },
    {
     "name": "stdout",
     "output_type": "stream",
     "text": [
      "too high,try again\n"
     ]
    },
    {
     "name": "stdin",
     "output_type": "stream",
     "text": [
      "Enter a number 107\n"
     ]
    },
    {
     "name": "stdout",
     "output_type": "stream",
     "text": [
      "too high,try again\n"
     ]
    },
    {
     "name": "stdin",
     "output_type": "stream",
     "text": [
      "Enter a number 100\n"
     ]
    },
    {
     "name": "stdout",
     "output_type": "stream",
     "text": [
      "too high,try again\n"
     ]
    },
    {
     "name": "stdin",
     "output_type": "stream",
     "text": [
      "Enter a number 88\n"
     ]
    },
    {
     "name": "stdout",
     "output_type": "stream",
     "text": [
      "too high,try again\n"
     ]
    }
   ],
   "source": [
    "#Number guessing game\n",
    "import random\n",
    "secret_number=random.randint(1,100)\n",
    "print(\"welcome to the guessing game!\")\n",
    "print(\"choose a number between 1 and 100.Can you guess it right?\")\n",
    "#have to use the loop until we get the correct guess\n",
    "while True:\n",
    "    guess=int(input(\"Enter a number\"))\n",
    "    if guess < secret_number:\n",
    "       print(\"too low,try again\")\n",
    "    elif guess > secret_number:\n",
    "         print(\"too high,try again\")\n",
    "        \n",
    "    else:\n",
    "        print(\"congratulations,You have made the correct guess\")\n",
    "\n",
    "      \n",
    " "
   ]
  },
  {
   "cell_type": "code",
   "execution_count": 33,
   "id": "33b6b672-dd83-4bd9-b447-4f4bc95054ad",
   "metadata": {},
   "outputs": [
    {
     "name": "stdout",
     "output_type": "stream",
     "text": [
      "Welcome to Rock, paper, scissors\n",
      "choose one: rock,paper,or scissors\n"
     ]
    },
    {
     "name": "stdin",
     "output_type": "stream",
     "text": [
      "Enter your choice: rock\n"
     ]
    },
    {
     "name": "stdout",
     "output_type": "stream",
     "text": [
      " You chose: rock\n",
      " Computer chose: scissors\n",
      "You win!\n"
     ]
    }
   ],
   "source": [
    "import random\n",
    "choices= [\"rock\",\"paper\",\"scissors\"]\n",
    "print(\"Welcome to Rock, paper, scissors\")\n",
    "print(\"choose one: rock,paper,or scissors\")\n",
    "user_choice=input(\"Enter your choice:\").lower()\n",
    "if user_choice not in choices:\n",
    "    print(\"invalid input! Please choose rock,paper,or scissor\")\n",
    "else: \n",
    "     computer_choice=random.choice(choices)\n",
    "     print(f\" You chose: {user_choice}\")\n",
    "     print(f\" Computer chose: {computer_choice}\")\n",
    "     if user_choice==computer_choice:\n",
    "        print(\"Its a tie\")\n",
    "     elif(\n",
    "           (user_choice == \"rock\" and computer_choice == \"scissors\") or\n",
    "           (user_choice == \"scissors\" and computer_choice == \"paper\") or\n",
    "           (user_choice == \"paper\" and computer_choice == \"rock\")\n",
    "    ):\n",
    "        print(\"You win!\")\n",
    "     else:\n",
    "        print(\"You lose!\")\n",
    "\n",
    "\n",
    "\n"
   ]
  },
  {
   "cell_type": "code",
   "execution_count": 12,
   "id": "f3b764bf-c696-4ccf-8808-45e079578671",
   "metadata": {},
   "outputs": [
    {
     "name": "stdout",
     "output_type": "stream",
     "text": [
      "Welcome to the jungle game\n",
      "You have to choose the correct path to move ahead:left or right\n"
     ]
    },
    {
     "name": "stdin",
     "output_type": "stream",
     "text": [
      "Do u want to choose left or right? left\n"
     ]
    },
    {
     "name": "stdout",
     "output_type": "stream",
     "text": [
      "You will enter to the beautiful temple\n"
     ]
    },
    {
     "name": "stdin",
     "output_type": "stream",
     "text": [
      "Do u want to cross the river or bridge ? river\n"
     ]
    },
    {
     "name": "stdout",
     "output_type": "stream",
     "text": [
      "you have made your way to the temple\n"
     ]
    }
   ],
   "source": [
    "#jungle adventure\n",
    "def start_adventure():\n",
    "    print(\"Welcome to the jungle game\")\n",
    "    print(\"You have to choose the correct path to move ahead:left or right\")\n",
    "\n",
    "    choice1=input(\"Do u want to choose left or right?\").lower()\n",
    "    \n",
    "    if choice1 == \"left\":\n",
    "         left_path()\n",
    "    elif choice1 == \"right\":\n",
    "         right_path()\n",
    "    else:\n",
    "        print(\"Invalid choice.Game over\")\n",
    "def left_path():\n",
    "    print(\"You will enter to the beautiful temple\")\n",
    "    choice2=input(\"Do u want to cross the river or bridge ?\").lower()\n",
    "\n",
    "    if choice2 == \"river\":\n",
    "        print(\"you have made your way to the temple\")\n",
    "    elif choice2 == \"bridge\":\n",
    "        print(\"you have made your way to the caves\")\n",
    "    else:\n",
    "        print(\"A lion will eat u up.Game over\")\n",
    "def right_path():\n",
    "    print(\"You will enter to the beautiful snow mountains\")\n",
    "    choice3=input(\"Do u want to climb the hills or tree ?\").lower()\n",
    "\n",
    "    if choice3 == \"hills\":\n",
    "        print(\"you have made your way to the snow mountains\")\n",
    "    elif choice3 == \"tree\":\n",
    "        print(\"you have made your way to the swamps\")\n",
    "    else:\n",
    "        print(\"A snake will bite u.Game over\")\n",
    "#start the game\n",
    "start_adventure()\n",
    "\n",
    "            \n",
    "\n",
    "     "
   ]
  },
  {
   "cell_type": "code",
   "execution_count": null,
   "id": "b3b502af-c00c-4fa4-a2d6-e91e031dcaf2",
   "metadata": {},
   "outputs": [
    {
     "name": "stdout",
     "output_type": "stream",
     "text": [
      "Timed math challenge\n",
      "You have 30 seconds to answer all the possible questions.\n",
      "Press enter to start\n"
     ]
    },
    {
     "name": "stdin",
     "output_type": "stream",
     "text": [
      " \n"
     ]
    },
    {
     "name": "stdout",
     "output_type": "stream",
     "text": [
      "Question: 13 + 15 = ?\n"
     ]
    },
    {
     "name": "stdin",
     "output_type": "stream",
     "text": [
      "Your answer:  28\n"
     ]
    },
    {
     "name": "stdout",
     "output_type": "stream",
     "text": [
      "Correct!\n",
      "\n",
      "Question: 1 + 17 = ?\n"
     ]
    },
    {
     "name": "stdin",
     "output_type": "stream",
     "text": [
      "Your answer:  18\n"
     ]
    },
    {
     "name": "stdout",
     "output_type": "stream",
     "text": [
      "Correct!\n",
      "\n",
      "Question: 380 / 19 = ?\n"
     ]
    },
    {
     "name": "stdin",
     "output_type": "stream",
     "text": [
      "Your answer:  9\n"
     ]
    },
    {
     "name": "stdout",
     "output_type": "stream",
     "text": [
      "Wrong answer. Correct was 20.0\n",
      "\n",
      "Question: 156 / 13 = ?\n"
     ]
    }
   ],
   "source": [
    "import random\n",
    "import time\n",
    "\n",
    "def generate_question():\n",
    "    ops = ['+', '-', '*', '/']\n",
    "    op = random.choice(ops)\n",
    "    a = random.randint(1, 20)\n",
    "    b = random.randint(1, 20)\n",
    "\n",
    "    if op == '/':\n",
    "        a = a * b  # ensures division is a whole number\n",
    "\n",
    "    question = f\"{a} {op} {b}\"  # FIXED: insert op instead of literal 'op'\n",
    "    answer = eval(question)\n",
    "    return question, round(answer, 2)\n",
    "\n",
    "def math_challenge(duration=30):\n",
    "    print(\"Timed math challenge\")\n",
    "    print(f\"You have {duration} seconds to answer all the possible questions.\")\n",
    "    print(\"Press enter to start\")\n",
    "    input()\n",
    "\n",
    "    score = 0\n",
    "    start_time = time.time()\n",
    "\n",
    "    while True:\n",
    "        current_time = time.time()\n",
    "        if current_time - start_time > duration:\n",
    "            break\n",
    "\n",
    "        question, answer = generate_question()\n",
    "        print(f\"Question: {question} = ?\")\n",
    "\n",
    "        try:\n",
    "            user_input = input(\"Your answer: \")\n",
    "            if current_time - start_time > duration:\n",
    "                break\n",
    "\n",
    "            if float(user_input) == answer:\n",
    "                print(\"Correct!\\n\")\n",
    "                score += 1\n",
    "            else:\n",
    "                print(f\"Wrong answer. Correct was {answer}\\n\")\n",
    "\n",
    "        except:\n",
    "            print(f\"Invalid input. Correct answer was {answer}\\n\")\n",
    "\n",
    "    # Moved score print **outside** the loop\n",
    "    print(f\"\\nTime's up! You scored {score} point(s) in {duration} seconds.\")\n",
    "\n",
    "# Run the game\n",
    "math_challenge(30)\n"
   ]
  },
  {
   "cell_type": "code",
   "execution_count": null,
   "id": "37e8a630-ccb4-4465-9ac2-b4cec06ff0fb",
   "metadata": {},
   "outputs": [],
   "source": []
  },
  {
   "cell_type": "code",
   "execution_count": null,
   "id": "08eb3b3e-a359-4b48-9e27-b312e483f487",
   "metadata": {},
   "outputs": [],
   "source": []
  }
 ],
 "metadata": {
  "kernelspec": {
   "display_name": "Python 3 (ipykernel)",
   "language": "python",
   "name": "python3"
  },
  "language_info": {
   "codemirror_mode": {
    "name": "ipython",
    "version": 3
   },
   "file_extension": ".py",
   "mimetype": "text/x-python",
   "name": "python",
   "nbconvert_exporter": "python",
   "pygments_lexer": "ipython3",
   "version": "3.13.5"
  }
 },
 "nbformat": 4,
 "nbformat_minor": 5
}
