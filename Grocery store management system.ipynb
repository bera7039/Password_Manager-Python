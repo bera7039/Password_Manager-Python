{
 "cells": [
  {
   "cell_type": "code",
   "execution_count": null,
   "id": "164326ff-b785-4cb3-90fa-f147680fe00e",
   "metadata": {},
   "outputs": [
    {
     "name": "stdout",
     "output_type": "stream",
     "text": [
      "\n",
      "Grocery Store Management\n",
      "1. Add Product\n",
      "2. View Inventory\n",
      "3. Update Stock\n",
      "4. Process Sale\n",
      "5. Exit\n"
     ]
    },
    {
     "name": "stdin",
     "output_type": "stream",
     "text": [
      "Enter your choice (1-5):  3\n",
      "Enter product ID to update:  122\n",
      "Enter quantity to add:  5\n"
     ]
    },
    {
     "name": "stdout",
     "output_type": "stream",
     "text": [
      "Product ID not found.\n",
      "\n",
      "Grocery Store Management\n",
      "1. Add Product\n",
      "2. View Inventory\n",
      "3. Update Stock\n",
      "4. Process Sale\n",
      "5. Exit\n"
     ]
    }
   ],
   "source": [
    "# Grocery Store Management System\n",
    "\n",
    "# Dictionary to store the inventory\n",
    "inventory = {}\n",
    "\n",
    "def add_product(product_id, name, price, quantity):\n",
    "    \"\"\"\n",
    "    Adds a new product to the inventory or updates an existing one.\n",
    "    \"\"\"\n",
    "    if product_id in inventory:\n",
    "        # If product exists, update the quantity and price\n",
    "        inventory[product_id]['quantity'] += quantity\n",
    "        inventory[product_id]['price'] = price\n",
    "    else:\n",
    "        # Add a new product entry\n",
    "        inventory[product_id] = {'name': name, 'price': price, 'quantity': quantity}\n",
    "\n",
    "def view_inventory():\n",
    "    \"\"\"\n",
    "    Displays all products in the inventory.\n",
    "    \"\"\"\n",
    "    if not inventory:\n",
    "        print(\"Inventory is empty.\")\n",
    "        return\n",
    "    print(f\"{'ID':<10}{'Name':<20}{'Price':<10}{'Quantity':<10}\")\n",
    "    for pid, details in inventory.items():\n",
    "        print(f\"{pid:<10}{details['name']:<20}{details['price']:<10}{details['quantity']:<10}\")\n",
    "\n",
    "def update_stock(product_id, quantity):\n",
    "    \"\"\"\n",
    "    Updates the stock of a product by adding to the existing quantity.\n",
    "    \"\"\"\n",
    "    if product_id in inventory:\n",
    "        inventory[product_id]['quantity'] += quantity\n",
    "    else:\n",
    "        print(\"Product ID not found.\")\n",
    "\n",
    "def process_sale(product_id, quantity):\n",
    "    \"\"\"\n",
    "    Processes the sale of a product and updates the inventory.\n",
    "    \"\"\"\n",
    "    if product_id not in inventory:\n",
    "        print(\"Product ID not found.\")\n",
    "        return\n",
    "    if inventory[product_id]['quantity'] < quantity:\n",
    "        print(\"Insufficient stock.\")\n",
    "        return\n",
    "    total_price = quantity * inventory[product_id]['price']\n",
    "    inventory[product_id]['quantity'] -= quantity\n",
    "    print(f\"Sale successful. Total price: ₹{total_price}\")\n",
    "\n",
    "def main():\n",
    "    \"\"\"\n",
    "    Main menu loop for the store system.\n",
    "    \"\"\"\n",
    "    while True:\n",
    "        print(\"\\nGrocery Store Management\")\n",
    "        print(\"1. Add Product\")\n",
    "        print(\"2. View Inventory\")\n",
    "        print(\"3. Update Stock\")\n",
    "        print(\"4. Process Sale\")\n",
    "        print(\"5. Exit\")\n",
    "\n",
    "        choice = input(\"Enter your choice (1-5): \")\n",
    "\n",
    "        if choice == '1':\n",
    "            pid = input(\"Enter product ID: \")\n",
    "            name = input(\"Enter product name: \")\n",
    "            price = float(input(\"Enter product price: \"))\n",
    "            quantity = int(input(\"Enter quantity: \"))\n",
    "            add_product(pid, name, price, quantity)\n",
    "        elif choice == '2':\n",
    "            view_inventory()\n",
    "        elif choice == '3':\n",
    "            pid = input(\"Enter product ID to update: \")\n",
    "            quantity = int(input(\"Enter quantity to add: \"))\n",
    "            update_stock(pid, quantity)\n",
    "        elif choice == '4':\n",
    "            pid = input(\"Enter product ID to sell: \")\n",
    "            quantity = int(input(\"Enter quantity to sell: \"))\n",
    "            process_sale(pid, quantity)\n",
    "        elif choice == '5':\n",
    "            print(\"Exiting the system.\")\n",
    "            break\n",
    "        else:\n",
    "            print(\"Invalid choice. Please try again.\")\n",
    "\n",
    "# Entry point of the program\n",
    "if __name__ == \"__main__\":\n",
    "    main()\n"
   ]
  },
  {
   "cell_type": "code",
   "execution_count": null,
   "id": "30e8c806-64da-40e3-93cb-4e01be7b6d89",
   "metadata": {},
   "outputs": [],
   "source": []
  }
 ],
 "metadata": {
  "kernelspec": {
   "display_name": "Python 3 (ipykernel)",
   "language": "python",
   "name": "python3"
  },
  "language_info": {
   "codemirror_mode": {
    "name": "ipython",
    "version": 3
   },
   "file_extension": ".py",
   "mimetype": "text/x-python",
   "name": "python",
   "nbconvert_exporter": "python",
   "pygments_lexer": "ipython3",
   "version": "3.13.5"
  }
 },
 "nbformat": 4,
 "nbformat_minor": 5
}
